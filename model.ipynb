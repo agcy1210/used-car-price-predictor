{
 "cells": [
  {
   "cell_type": "code",
   "execution_count": 17,
   "metadata": {},
   "outputs": [],
   "source": [
    "import numpy as np\n",
    "import matplotlib.pyplot as plt\n",
    "import pandas as pd\n",
    "import os"
   ]
  },
  {
   "cell_type": "code",
   "execution_count": 18,
   "metadata": {},
   "outputs": [],
   "source": [
    "# extracting the dataset\n",
    "\n",
    "df=pd.read_csv('car_data.csv', sep=',',header=None)"
   ]
  },
  {
   "cell_type": "code",
   "execution_count": 19,
   "metadata": {},
   "outputs": [],
   "source": [
    "def predict(X, theta):\n",
    "    return X.dot(theta)"
   ]
  },
  {
   "cell_type": "code",
   "execution_count": 20,
   "metadata": {},
   "outputs": [],
   "source": [
    "def computeCost(X, y, theta):\n",
    "    J = 0\n",
    "    m = y.size\n",
    "    \n",
    "    predictions = predict(X, theta)\n",
    "    error = predictions - y\n",
    "    squared_error = np.transpose(error)*error\n",
    "    J = (1/(2*m)) * np.sum(squared_error)\n",
    "    \n",
    "    return J"
   ]
  },
  {
   "cell_type": "code",
   "execution_count": 21,
   "metadata": {},
   "outputs": [],
   "source": [
    "def gradientDescent(X, y, theta, alpha, num_iters):\n",
    "    theta = theta.copy()\n",
    "    m = y.size\n",
    "    \n",
    "    for i in range(num_iters):\n",
    "        predictions = predict(X,theta)\n",
    "        error = np.dot(X.transpose(), predictions - y)\n",
    "        descent = (1/m) * alpha * error\n",
    "        theta = theta - descent\n",
    "        \n",
    "    return theta"
   ]
  },
  {
   "cell_type": "code",
   "execution_count": 22,
   "metadata": {},
   "outputs": [],
   "source": [
    "def featureNormalize(X):\n",
    "    X_norm = X.copy()\n",
    "    mu = np.zeros(X.shape[1])\n",
    "    sigma = np.zeros(X.shape[1])\n",
    "    \n",
    "    for i in range((mu.shape)[0]):\n",
    "        mu[i] = np.mean(X_norm[:,i])\n",
    "        sigma[i] = np.std(X_norm[:,i])\n",
    "        \n",
    "    X_norm = X_norm - mu\n",
    "    X_norm = X_norm / sigma\n",
    "\n",
    "    return X_norm,mu,sigma"
   ]
  },
  {
   "cell_type": "code",
   "execution_count": 23,
   "metadata": {},
   "outputs": [],
   "source": [
    "# extracting the features from dataset\n",
    "X = (df.values)[1:,[3,4]]\n",
    "\n",
    "# extracting the original value\n",
    "y = (df.values)[1:,2]\n",
    "m = y.size\n",
    "\n",
    "# converting string type to float for calculations\n",
    "X = X.astype(np.float)\n",
    "y = y.astype(np.float)\n",
    "\n",
    "# normalizing the features\n",
    "X_norm,mu,sigma = featureNormalize(X)\n",
    "X = np.concatenate([np.ones((m, 1)), X_norm], axis=1)"
   ]
  },
  {
   "cell_type": "code",
   "execution_count": 24,
   "metadata": {},
   "outputs": [],
   "source": [
    "# finding the optimum value of theta using gradient descent\n",
    "\n",
    "alpha = 0.1\n",
    "num_iters = 400\n",
    "\n",
    "theta = np.zeros(3)\n",
    "theta = gradientDescent(X,y,theta,alpha,num_iters)"
   ]
  },
  {
   "cell_type": "code",
   "execution_count": 25,
   "metadata": {},
   "outputs": [],
   "source": [
    "# running our model on given dataset to test the accuracy\n",
    "\n",
    "res = predict(X,theta)"
   ]
  },
  {
   "cell_type": "code",
   "execution_count": 35,
   "metadata": {},
   "outputs": [
    {
     "data": {
      "text/plain": [
       "4.756569263763702"
      ]
     },
     "execution_count": 35,
     "metadata": {},
     "output_type": "execute_result"
    }
   ],
   "source": [
    "# predicting the price of car with selling price = 6.5 and kilometers driven = 2700 using the trained model\n",
    "\n",
    "features = np.array([6.5,2700])\n",
    "features = (features - mu)/ sigma\n",
    "features = np.concatenate([np.array([1]), features])\n",
    "\n",
    "predict(features, theta)"
   ]
  },
  {
   "cell_type": "code",
   "execution_count": null,
   "metadata": {},
   "outputs": [],
   "source": []
  }
 ],
 "metadata": {
  "kernelspec": {
   "display_name": "Python 3",
   "language": "python",
   "name": "python3"
  },
  "language_info": {
   "codemirror_mode": {
    "name": "ipython",
    "version": 3
   },
   "file_extension": ".py",
   "mimetype": "text/x-python",
   "name": "python",
   "nbconvert_exporter": "python",
   "pygments_lexer": "ipython3",
   "version": "3.7.7"
  }
 },
 "nbformat": 4,
 "nbformat_minor": 4
}
